{
 "cells": [
  {
   "cell_type": "code",
   "execution_count": 3,
   "id": "0d97f931",
   "metadata": {},
   "outputs": [],
   "source": [
    "import pandas as pd\n",
    "import spacy\n",
    "from pathlib import Path\n",
    "from scipy.stats import zscore\n",
    "import matplotlib.pyplot as plt"
   ]
  },
  {
   "cell_type": "code",
   "execution_count": 31,
   "id": "d14e630d",
   "metadata": {},
   "outputs": [],
   "source": [
    "# loading language model from spacy library which is lightweight, fast, and for english web sources\n",
    "\n",
    "nlp = spacy.load(\"en_core_web_sm\")"
   ]
  },
  {
   "cell_type": "code",
   "execution_count": 32,
   "id": "4574d13f",
   "metadata": {},
   "outputs": [],
   "source": [
    "# all possible keywords relating to data sharing/leaks\n",
    "\n",
    "keywords = [\n",
    "    \"share\", \"third party\", \"sell\", \"disclose\", \"data\", \"personal information\",\n",
    "    \"analytics\", \"advertising\", \"collect\", \"tracking\", \"cookies\", \"metadata\",\n",
    "    \"behavioral data\", \"location data\", \"usage data\", \"store\", \"process\",\n",
    "    \"transmit\", \"profiling\", \"identifier\", \"IP address\", \"device ID\",\n",
    "    \"user data\", \"biometric data\", \"sensitive data\", \"data broker\",\n",
    "    \"data retention\", \"data processing\", \"data usage\", \"data sharing\",\n",
    "    \"information collected\", \"user information\", \"data subject\", \"data access\",\n",
    "    \"data transfer\", \"third-party services\", \"aggregated data\",\n",
    "    \"personalized advertising\", \"marketing\", \"targeting\", \"demographic data\",\n",
    "    \"data sale\", \"data storage\", \"data analytics\", \"privacy policy\",\n",
    "    \"consent\", \"data collection\", \"data controller\", \"data processor\",\n",
    "    \"information sharing\", \"automated decision-making\", \"web beacons\", \n",
    "    \"pixel tags\", \"cross-site tracking\", \"fingerprinting\",\n",
    "    \"session data\", \"telemetry\", \"user profiling\", \"surveillance\",\n",
    "    \"real-time bidding\", \"geo-location\", \"mobile identifiers\", \"clickstream data\",\n",
    "    \"third-party cookies\", \"re-identification\", \"data fusion\", \"data enrichment\",\n",
    "    \"customer data platform\", \"CDP\", \"CRM data\", \"purchase history\",\n",
    "    \"login credentials\", \"social graph\", \"data monetization\", \"data mining\",\n",
    "    \"data scraping\", \"cloud storage\", \"API access\", \"bulk data export\",\n",
    "    \"data leakage\", \"privacy violation\", \"confidential data\", \"PII\",\n",
    "    \"anonymized data\", \"de-identified data\", \"hashed data\", \"opt-out\",\n",
    "    \"terms of service\", \"behavioral tracking\", \"data warehouse\", \"big data\",\n",
    "    \"digital footprint\", \"consent management\", \"third-party integrations\",\n",
    "    \"user tracking\", \"usage metrics\", \"data-driven insights\", \"affiliates\",\n",
    "    \"data correlation\", \"data visualization\", \"data warehouse\", \"real-time analytics\"\n",
    "]"
   ]
  },
  {
   "cell_type": "code",
   "execution_count": 33,
   "id": "0ce859c3",
   "metadata": {},
   "outputs": [],
   "source": [
    "# using the key words, keeping track of how many sentences have these key words and how many total sentences there are for one txt file\n",
    "\n",
    "def analyze_text(text, keywords):\n",
    "    doc = nlp(text)\n",
    "    sentences = list(doc.sents)\n",
    "    total = len(sentences)\n",
    "    data_related = [s for s in sentences if any(k in s.text.lower() for k in keywords)]\n",
    "    return total, len(data_related)"
   ]
  },
  {
   "cell_type": "code",
   "execution_count": 34,
   "id": "c6f0c791",
   "metadata": {},
   "outputs": [],
   "source": [
    "# processing data sentences and total sentences across all txt files onto the dataframe\n",
    "\n",
    "def process_app_data(csv_path, txt_dir):\n",
    "    df = pd.read_csv(csv_path)\n",
    "    df[\"Total Sentences\"] = 0\n",
    "    df[\"Data Sentences\"] = 0\n",
    "    df[\"Data Sentence Proportion\"] = 0.0\n",
    "\n",
    "    for i, row in df.iterrows():\n",
    "        app_name = row['Name']\n",
    "        txt_path = Path(txt_dir) / f\"{app_name}.txt\"\n",
    "\n",
    "        if txt_path.exists():\n",
    "            text = txt_path.read_text(encoding='utf-8')\n",
    "            total, data_count = analyze_text(text, keywords)\n",
    "            df.at[i, \"Total Sentences\"] = total\n",
    "            df.at[i, \"Data Sentences\"] = data_count\n",
    "            df.at[i, \"Data Sentence Proportion\"] = round(data_count / total, 3) if total > 0 else 0.0\n",
    "        else:\n",
    "            print(f\"Missing: {txt_path}\")\n",
    "\n",
    "    return df"
   ]
  },
  {
   "cell_type": "code",
   "execution_count": 35,
   "id": "d233fab7",
   "metadata": {},
   "outputs": [],
   "source": [
    "# constants for all the directories (csv files & txt folders)\n",
    "\n",
    "safe_csv = \"compiled_data/safe_apps.csv\"\n",
    "unsafe_csv = \"compiled_data/unsafe_apps.csv\"\n",
    "test_csv = \"compiled_data/test_apps.csv\"\n",
    "\n",
    "safe_txt_dir = \"raw_data/safe\"\n",
    "unsafe_txt_dir = \"raw_data/unsafe\"\n",
    "test_txt_dir = \"raw_data/test\""
   ]
  },
  {
   "cell_type": "code",
   "execution_count": 36,
   "id": "9e67cd31",
   "metadata": {},
   "outputs": [
    {
     "name": "stdout",
     "output_type": "stream",
     "text": [
      "Safe Apps Preview:\n",
      "        Name  Data Sentences  Total Sentences  Data Sentence Proportion\n",
      "0  Pinterest               1                3                     0.333\n",
      "1   Mastodon              22               64                     0.344\n",
      "2   LinkedIn             157              277                     0.567\n",
      "3       Vero             306              451                     0.678\n",
      "4       MeWe             118              180                     0.656\n"
     ]
    }
   ],
   "source": [
    "# processed data for safe apps\n",
    "\n",
    "df_safe = process_app_data(safe_csv, safe_txt_dir)\n",
    "print(\"Safe Apps Preview:\")\n",
    "print(df_safe.head())"
   ]
  },
  {
   "cell_type": "code",
   "execution_count": 37,
   "id": "3e493a0a",
   "metadata": {},
   "outputs": [
    {
     "name": "stdout",
     "output_type": "stream",
     "text": [
      "Missing: raw_data\\unsafe\\Character.AI.txt\n",
      "Unsafe Apps Preview:\n",
      "           Name  Data Sentences  Total Sentences  Data Sentence Proportion\n",
      "0          Wizz             108              178                     0.607\n",
      "1        Teabot              14               79                     0.177\n",
      "2      VajraSpy              25               45                     0.556\n",
      "3  eXotic Visit              32               61                     0.525\n",
      "4        TikTok             118              183                     0.645\n"
     ]
    }
   ],
   "source": [
    "# processed data for unsafe apps\n",
    "\n",
    "df_unsafe = process_app_data(unsafe_csv, unsafe_txt_dir)\n",
    "print(\"Unsafe Apps Preview:\")\n",
    "print(df_unsafe.head())"
   ]
  },
  {
   "cell_type": "code",
   "execution_count": 38,
   "id": "4a1436e9",
   "metadata": {},
   "outputs": [
    {
     "name": "stdout",
     "output_type": "stream",
     "text": [
      "Test Apps Preview:\n",
      "                             Name  Data Sentences  Total Sentences  \\\n",
      "0   Flo Period Tracker & Calendar             176              275   \n",
      "1     Clue Period & Cycle Tracker             273              422   \n",
      "2  Ovia Fertility & Cycle Tracker              97              121   \n",
      "3  Glow Period, Fertility Tracker             208              313   \n",
      "4                  Natural Cycles             206              305   \n",
      "\n",
      "   Data Sentence Proportion  \n",
      "0                     0.640  \n",
      "1                     0.647  \n",
      "2                     0.802  \n",
      "3                     0.665  \n",
      "4                     0.675  \n"
     ]
    }
   ],
   "source": [
    "# processed data for testing apps\n",
    "\n",
    "df_test = process_app_data(test_csv, test_txt_dir)\n",
    "print(\"Test Apps Preview:\")\n",
    "print(df_test.head())"
   ]
  },
  {
   "cell_type": "code",
   "execution_count": 39,
   "id": "eea4364b",
   "metadata": {},
   "outputs": [],
   "source": [
    "# removing outliers using 2 standard deviation threshold (95% data)\n",
    "\n",
    "def remove_outliers_zscore(dataframe, column, threshold=2):\n",
    "    z_scores = zscore(dataframe[column])\n",
    "    return dataframe[abs(z_scores) <= threshold]"
   ]
  },
  {
   "cell_type": "code",
   "execution_count": 40,
   "id": "0f54e2db",
   "metadata": {},
   "outputs": [],
   "source": [
    "# cleaning up any outliers in all the data for data sentences and total sentences\n",
    "\n",
    "df_safe_clean1 = remove_outliers_zscore(df_safe, \"Data Sentences\")\n",
    "df_safe_clean = remove_outliers_zscore(df_safe, \"Total Sentences\")\n",
    "\n",
    "df_unsafe_clean1 = remove_outliers_zscore(df_unsafe, \"Data Sentences\")\n",
    "df_unsafe_clean = remove_outliers_zscore(df_unsafe, \"Total Sentences\")\n",
    "\n",
    "df_test_clean1 = remove_outliers_zscore(df_test, \"Data Sentences\")\n",
    "df_test_clean = remove_outliers_zscore(df_test, \"Total Sentences\")"
   ]
  },
  {
   "cell_type": "code",
   "execution_count": 41,
   "id": "bd7cc7e6",
   "metadata": {},
   "outputs": [],
   "source": [
    "# provides summary stats for a given dataframe based on AVERAGES\n",
    "\n",
    "def average_summarize_df(df, label):\n",
    "    summary = {\n",
    "        \"Label\": label,\n",
    "        \"Number of Samples\": len(df),\n",
    "        \"Average Data Sentences\": df[\"Data Sentences\"].mean(),\n",
    "        \"Average Total Sentences\": df[\"Total Sentences\"].mean(),\n",
    "        \"Average Data Sentence Proportion\": df[\"Data Sentence Proportion\"].mean()\n",
    "    }\n",
    "    return summary"
   ]
  },
  {
   "cell_type": "code",
   "execution_count": 42,
   "id": "a258c267",
   "metadata": {},
   "outputs": [],
   "source": [
    "# application of average summaries\n",
    "\n",
    "average_summary_df = pd.DataFrame([\n",
    "    average_summarize_df(df_safe_clean, \"Safe\"),\n",
    "    average_summarize_df(df_unsafe_clean, \"Unsafe\"),\n",
    "    average_summarize_df(df_test_clean, \"Test\")\n",
    "])"
   ]
  },
  {
   "cell_type": "code",
   "execution_count": 43,
   "id": "7b1ed70e",
   "metadata": {},
   "outputs": [
    {
     "data": {
      "text/html": [
       "<div>\n",
       "<style scoped>\n",
       "    .dataframe tbody tr th:only-of-type {\n",
       "        vertical-align: middle;\n",
       "    }\n",
       "\n",
       "    .dataframe tbody tr th {\n",
       "        vertical-align: top;\n",
       "    }\n",
       "\n",
       "    .dataframe thead th {\n",
       "        text-align: right;\n",
       "    }\n",
       "</style>\n",
       "<table border=\"1\" class=\"dataframe\">\n",
       "  <thead>\n",
       "    <tr style=\"text-align: right;\">\n",
       "      <th></th>\n",
       "      <th>Label</th>\n",
       "      <th>Number of Samples</th>\n",
       "      <th>Average Data Sentences</th>\n",
       "      <th>Average Total Sentences</th>\n",
       "      <th>Average Data Sentence Proportion</th>\n",
       "    </tr>\n",
       "  </thead>\n",
       "  <tbody>\n",
       "    <tr>\n",
       "      <th>0</th>\n",
       "      <td>Safe</td>\n",
       "      <td>44</td>\n",
       "      <td>76.477273</td>\n",
       "      <td>137.363636</td>\n",
       "      <td>0.526795</td>\n",
       "    </tr>\n",
       "    <tr>\n",
       "      <th>1</th>\n",
       "      <td>Unsafe</td>\n",
       "      <td>41</td>\n",
       "      <td>75.902439</td>\n",
       "      <td>138.756098</td>\n",
       "      <td>0.531122</td>\n",
       "    </tr>\n",
       "    <tr>\n",
       "      <th>2</th>\n",
       "      <td>Test</td>\n",
       "      <td>38</td>\n",
       "      <td>87.184211</td>\n",
       "      <td>134.131579</td>\n",
       "      <td>0.642921</td>\n",
       "    </tr>\n",
       "  </tbody>\n",
       "</table>\n",
       "</div>"
      ],
      "text/plain": [
       "    Label  Number of Samples  Average Data Sentences  Average Total Sentences  \\\n",
       "0    Safe                 44               76.477273               137.363636   \n",
       "1  Unsafe                 41               75.902439               138.756098   \n",
       "2    Test                 38               87.184211               134.131579   \n",
       "\n",
       "   Average Data Sentence Proportion  \n",
       "0                          0.526795  \n",
       "1                          0.531122  \n",
       "2                          0.642921  "
      ]
     },
     "execution_count": 43,
     "metadata": {},
     "output_type": "execute_result"
    }
   ],
   "source": [
    "average_summary_df"
   ]
  },
  {
   "cell_type": "code",
   "execution_count": 44,
   "id": "442330c3",
   "metadata": {},
   "outputs": [],
   "source": [
    "# provides summary stats for a given dataframe based on MEDIANS\n",
    "\n",
    "def median_summarize_df(df, label):\n",
    "    summary = {\n",
    "        \"Label\": label,\n",
    "        \"Number of Samples\": len(df),\n",
    "        \"Median Data Sentences\": df[\"Data Sentences\"].median(),\n",
    "        \"Median Total Sentences\": df[\"Total Sentences\"].median(),\n",
    "        \"Median Data Sentence Proportion\": df[\"Data Sentence Proportion\"].median()\n",
    "    }\n",
    "    return summary"
   ]
  },
  {
   "cell_type": "code",
   "execution_count": 45,
   "id": "763aedff",
   "metadata": {},
   "outputs": [],
   "source": [
    "# application of MEDIAN summaries\n",
    "\n",
    "median_summary_df = pd.DataFrame([\n",
    "    median_summarize_df(df_safe_clean, \"Safe\"),\n",
    "    median_summarize_df(df_unsafe_clean, \"Unsafe\"),\n",
    "    median_summarize_df(df_test_clean, \"Test\")\n",
    "])"
   ]
  },
  {
   "cell_type": "code",
   "execution_count": 46,
   "id": "95d5505c",
   "metadata": {},
   "outputs": [
    {
     "data": {
      "text/html": [
       "<div>\n",
       "<style scoped>\n",
       "    .dataframe tbody tr th:only-of-type {\n",
       "        vertical-align: middle;\n",
       "    }\n",
       "\n",
       "    .dataframe tbody tr th {\n",
       "        vertical-align: top;\n",
       "    }\n",
       "\n",
       "    .dataframe thead th {\n",
       "        text-align: right;\n",
       "    }\n",
       "</style>\n",
       "<table border=\"1\" class=\"dataframe\">\n",
       "  <thead>\n",
       "    <tr style=\"text-align: right;\">\n",
       "      <th></th>\n",
       "      <th>Label</th>\n",
       "      <th>Number of Samples</th>\n",
       "      <th>Median Data Sentences</th>\n",
       "      <th>Median Total Sentences</th>\n",
       "      <th>Median Data Sentence Proportion</th>\n",
       "    </tr>\n",
       "  </thead>\n",
       "  <tbody>\n",
       "    <tr>\n",
       "      <th>0</th>\n",
       "      <td>Safe</td>\n",
       "      <td>44</td>\n",
       "      <td>49.5</td>\n",
       "      <td>98.0</td>\n",
       "      <td>0.5395</td>\n",
       "    </tr>\n",
       "    <tr>\n",
       "      <th>1</th>\n",
       "      <td>Unsafe</td>\n",
       "      <td>41</td>\n",
       "      <td>70.0</td>\n",
       "      <td>141.0</td>\n",
       "      <td>0.5910</td>\n",
       "    </tr>\n",
       "    <tr>\n",
       "      <th>2</th>\n",
       "      <td>Test</td>\n",
       "      <td>38</td>\n",
       "      <td>81.0</td>\n",
       "      <td>114.5</td>\n",
       "      <td>0.6400</td>\n",
       "    </tr>\n",
       "  </tbody>\n",
       "</table>\n",
       "</div>"
      ],
      "text/plain": [
       "    Label  Number of Samples  Median Data Sentences  Median Total Sentences  \\\n",
       "0    Safe                 44                   49.5                    98.0   \n",
       "1  Unsafe                 41                   70.0                   141.0   \n",
       "2    Test                 38                   81.0                   114.5   \n",
       "\n",
       "   Median Data Sentence Proportion  \n",
       "0                           0.5395  \n",
       "1                           0.5910  \n",
       "2                           0.6400  "
      ]
     },
     "execution_count": 46,
     "metadata": {},
     "output_type": "execute_result"
    }
   ],
   "source": [
    "median_summary_df"
   ]
  },
  {
   "cell_type": "code",
   "execution_count": 47,
   "id": "c20a3e92",
   "metadata": {},
   "outputs": [
    {
     "data": {
      "image/png": "[encoded data removed]",
      "text/plain": [
       "<Figure size 432x288 with 1 Axes>"
      ]
     },
     "metadata": {
      "needs_background": "light"
     },
     "output_type": "display_data"
    },
    {
     "data": {
      "image/png": "[encoded data removed]",
      "text/plain": [
       "<Figure size 432x288 with 1 Axes>"
      ]
     },
     "metadata": {
      "needs_background": "light"
     },
     "output_type": "display_data"
    },
    {
     "data": {
      "image/png": "[encoded data removed]",
      "text/plain": [
       "<Figure size 432x288 with 1 Axes>"
      ]
     },
     "metadata": {
      "needs_background": "light"
     },
     "output_type": "display_data"
    }
   ],
   "source": [
    "# displaying all the data for TOTAL SENTENCES\n",
    "\n",
    "df_safe_clean[\"Total Sentences\"].hist(bins=10)\n",
    "plt.xlabel(\"Data Sentences\")\n",
    "plt.ylabel(\"Frequency\")\n",
    "plt.title(\"Histogram of Total Sentences (Safe)\")\n",
    "plt.show()\n",
    "\n",
    "df_unsafe_clean[\"Total Sentences\"].hist(bins=10)\n",
    "plt.xlabel(\"Data Sentences\")\n",
    "plt.ylabel(\"Frequency\")\n",
    "plt.title(\"Histogram of Total Sentences (Unsafe)\")\n",
    "plt.show()\n",
    "\n",
    "df_test_clean[\"Total Sentences\"].hist(bins=10)\n",
    "plt.xlabel(\"Data Sentences\")\n",
    "plt.ylabel(\"Frequency\")\n",
    "plt.title(\"Histogram of Total Sentences (Test)\")\n",
    "plt.show()"
   ]
  },
  {
   "cell_type": "code",
   "execution_count": 48,
   "id": "587f8db8",
   "metadata": {},
   "outputs": [
    {
     "data": {
      "image/png": "[encoded data removed]",
      "text/plain": [
       "<Figure size 432x288 with 1 Axes>"
      ]
     },
     "metadata": {
      "needs_background": "light"
     },
     "output_type": "display_data"
    },
    {
     "data": {
      "image/png": "[encoded data removed]",
      "text/plain": [
       "<Figure size 432x288 with 1 Axes>"
      ]
     },
     "metadata": {
      "needs_background": "light"
     },
     "output_type": "display_data"
    },
    {
     "data": {
      "image/png": "[encoded data removed]",
      "text/plain": [
       "<Figure size 432x288 with 1 Axes>"
      ]
     },
     "metadata": {
      "needs_background": "light"
     },
     "output_type": "display_data"
    }
   ],
   "source": [
    "# displaying all the data for DATA PROPORTIONS\n",
    "\n",
    "df_safe_clean[\"Data Sentence Proportion\"].hist(bins=10)\n",
    "plt.xlabel(\"Data Sentences\")\n",
    "plt.ylabel(\"Frequency\")\n",
    "plt.title(\"Histogram of Data Sentence Proportions (Safe)\")\n",
    "plt.show()\n",
    "\n",
    "df_unsafe_clean[\"Data Sentence Proportion\"].hist(bins=10)\n",
    "plt.xlabel(\"Data Sentences\")\n",
    "plt.ylabel(\"Frequency\")\n",
    "plt.title(\"Histogram of Data Sentence Proportions (Unsafe)\")\n",
    "plt.show()\n",
    "\n",
    "df_test_clean[\"Data Sentence Proportion\"].hist(bins=10)\n",
    "plt.xlabel(\"Data Sentences\")\n",
    "plt.ylabel(\"Frequency\")\n",
    "plt.title(\"Histogram of Data Sentence Proportions (Test)\")\n",
    "plt.show()"
   ]
  },
  {
   "cell_type": "code",
   "execution_count": 49,
   "id": "8ed96783",
   "metadata": {},
   "outputs": [],
   "source": [
    "# skewness supports using a resistant value like MEDIAN vs MEAN which can be affected by skewness"
   ]
  }
 ],
 "metadata": {
  "kernelspec": {
   "display_name": "Python 3 (ipykernel)",
   "language": "python",
   "name": "python3"
  },
  "language_info": {
   "codemirror_mode": {
    "name": "ipython",
    "version": 3
   },
   "file_extension": ".py",
   "mimetype": "text/x-python",
   "name": "python",
   "nbconvert_exporter": "python",
   "pygments_lexer": "ipython3",
   "version": "3.10.1"
  }
 },
 "nbformat": 4,
 "nbformat_minor": 5
}
